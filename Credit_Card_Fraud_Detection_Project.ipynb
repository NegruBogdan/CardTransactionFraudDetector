{
 "cells": [
  {
   "cell_type": "markdown",
   "id": "a4334515",
   "metadata": {},
   "source": [
    "# Neural Network approach"
   ]
  },
  {
   "cell_type": "markdown",
   "id": "04b667eb",
   "metadata": {},
   "source": [
    "## Getting the dataset  ready"
   ]
  },
  {
   "cell_type": "code",
   "execution_count": 3,
   "id": "2cda4a85",
   "metadata": {},
   "outputs": [],
   "source": [
    "import pandas as pd\n",
    "my_csv = pd.read_csv(r\"D:\\Programming shit\\Python\\MachineLearningDatasets\\creditcard.csv\")"
   ]
  },
  {
   "cell_type": "code",
   "execution_count": 37,
   "id": "3fc329ff",
   "metadata": {},
   "outputs": [],
   "source": [
    "import numpy as np\n",
    "my_csv['split'] = np.random.randn(my_csv.shape[0], 1)"
   ]
  },
  {
   "cell_type": "code",
   "execution_count": 38,
   "id": "0d8aa0a3",
   "metadata": {},
   "outputs": [],
   "source": [
    "selection = np.random.rand(len(my_csv)) <= 0.85"
   ]
  },
  {
   "cell_type": "code",
   "execution_count": 39,
   "id": "fee6f5ac",
   "metadata": {},
   "outputs": [],
   "source": [
    "train_csv = my_csv[selection]\n",
    "test_csv = my_csv[~selection]"
   ]
  },
  {
   "cell_type": "code",
   "execution_count": 40,
   "id": "9615c405",
   "metadata": {},
   "outputs": [],
   "source": [
    "transaction_data_train = train_csv.drop(columns = ['Class','split'])\n",
    "transaction_data_test = test_csv.drop(columns = ['Class','split'])"
   ]
  },
  {
   "cell_type": "code",
   "execution_count": 41,
   "id": "0b3f1c13",
   "metadata": {},
   "outputs": [],
   "source": [
    "transaction_labels_train = train_csv['Class']\n",
    "transaction_labels_test = test_csv['Class']"
   ]
  },
  {
   "cell_type": "code",
   "execution_count": 58,
   "id": "ce94a3c3",
   "metadata": {},
   "outputs": [],
   "source": [
    "import torch\n",
    "from sklearn.preprocessing import StandardScaler\n",
    "\n",
    "class myDataset(torch.utils.data.Dataset):\n",
    "    def __init__(self,transactions,labels):\n",
    "        super().__init__()\n",
    "        t = transactions.values\n",
    "        l = labels.values\n",
    "        scaler = StandardScaler()\n",
    "        t = scaler.fit_transform(t)\n",
    "        self.labels_list = torch.tensor(l)\n",
    "        self.transactions_list = torch.tensor(t,dtype = torch.float32)\n",
    "        \n",
    "    def __len__(self):\n",
    "        return len(self.labels_list)\n",
    "    \n",
    "    def __getitem__(self,index):\n",
    "        return self.transactions_list[index], self.labels_list[index]\n"
   ]
  },
  {
   "cell_type": "code",
   "execution_count": 59,
   "id": "b091be61",
   "metadata": {},
   "outputs": [],
   "source": [
    "training_data = myDataset(transaction_data_train,transaction_labels_train) \n",
    "testing_data = myDataset(transaction_data_test,transaction_labels_test) "
   ]
  },
  {
   "cell_type": "code",
   "execution_count": 60,
   "id": "e0fbd8f2",
   "metadata": {},
   "outputs": [],
   "source": [
    "from torch.utils.data import DataLoader\n",
    "\n",
    "train_dataloader = DataLoader(training_data, batch_size=1000, shuffle=True)\n",
    "test_dataloader = DataLoader(testing_data, batch_size=1000, shuffle=True)"
   ]
  },
  {
   "cell_type": "markdown",
   "id": "1db240d5",
   "metadata": {},
   "source": [
    "## Defining the network(research in progress)"
   ]
  },
  {
   "cell_type": "code",
   "execution_count": 61,
   "id": "edeabeff",
   "metadata": {},
   "outputs": [],
   "source": [
    "import torch.nn as nn\n",
    "\n",
    "class MyDAE(nn.Module):\n",
    "    def __init__(self):\n",
    "        super().__init__()\n",
    "        self.layer1 = nn.Linear(in_features = 30, out_features = 21)\n",
    "        self.relu = nn.ReLU()\n",
    "        self.layer2 = nn.Linear(in_features = 21, out_features = 14)\n",
    "        self.layer3= nn.Linear(in_features = 14, out_features = 9)\n",
    "        self.layer4= nn.Linear(in_features = 9, out_features = 14)\n",
    "        self.layer5= nn.Linear(in_features = 14, out_features = 21)\n",
    "        self.layer6= nn.Linear(in_features = 21, out_features = 30)\n",
    "        \n",
    "    def forward(self,x):\n",
    "        x = self.relu(self.layer1(x))\n",
    "        x = self.relu(self.layer2(x))\n",
    "        x = self.relu(self.layer3(x))\n",
    "        x = self.relu(self.layer4(x))\n",
    "        x = self.relu(self.layer5(x))\n",
    "        x = self.relu(self.layer6(x))\n",
    "        return x"
   ]
  },
  {
   "cell_type": "code",
   "execution_count": 62,
   "id": "ff47495c",
   "metadata": {},
   "outputs": [],
   "source": [
    "class CardNet(nn.Module):\n",
    "    def __init__(self):\n",
    "        super().__init__()\n",
    "        self.dae = MyDAE()\n",
    "        self.relu = nn.ReLU()\n",
    "        self.soft = nn.Softmax()\n",
    "        self.layer1 = nn.Linear(in_features = 30, out_features = 20)\n",
    "        self.layer2 = nn.Linear(in_features = 20, out_features = 15)\n",
    "        self.layer3 = nn.Linear(in_features = 15, out_features = 10)\n",
    "        self.layer4 = nn.Linear(in_features = 10, out_features = 5)\n",
    "        self.layer5 = nn.Linear(in_features = 5, out_features = 2)\n",
    "        \n",
    "    def forward(self,x):\n",
    "        x = self.dae(x)\n",
    "        x = self.relu(self.layer1(x))\n",
    "        x = self.relu(self.layer2(x))\n",
    "        x = self.relu(self.layer3(x))\n",
    "        x = self.relu(self.layer4(x))\n",
    "        x = self.soft(self.layer5(x))\n",
    "        return x"
   ]
  },
  {
   "cell_type": "markdown",
   "id": "5fb87e9b",
   "metadata": {},
   "source": [
    "## Actual training"
   ]
  },
  {
   "cell_type": "code",
   "execution_count": 79,
   "id": "beda3ba9",
   "metadata": {},
   "outputs": [],
   "source": [
    "import torch.optim as optim\n",
    "\n",
    "epochs = 50\n",
    "\n",
    "cardNet = CardNet()\n",
    "\n",
    "optimizer = optim.Adam(params= cardNet.parameters(),lr = 1e-4)\n",
    "\n",
    "optimizer.zero_grad()\n",
    "\n",
    "CEloss = nn.CrossEntropyLoss()"
   ]
  },
  {
   "cell_type": "code",
   "execution_count": 80,
   "id": "c8c50b07",
   "metadata": {},
   "outputs": [],
   "source": [
    "def compute_accuracy(net: nn.Module, test_loader: DataLoader):\n",
    "    net.eval()\n",
    "    total = 0\n",
    "    correct = 0\n",
    "    for test_transaction, test_labels in test_loader:\n",
    "        total += len(test_transaction)\n",
    "        out_class = torch.argmax(net(test_transaction))\n",
    "        correct += torch.sum(out_class == test_labels)\n",
    "\n",
    "    return correct / total * 100"
   ]
  },
  {
   "cell_type": "code",
   "execution_count": 81,
   "id": "eb6974be",
   "metadata": {
    "scrolled": true
   },
   "outputs": [
    {
     "name": "stderr",
     "output_type": "stream",
     "text": [
      "C:\\Users\\Bogdan\\AppData\\Local\\Temp/ipykernel_8804/2763871701.py:19: UserWarning: Implicit dimension choice for softmax has been deprecated. Change the call to include dim=X as an argument.\n",
      "  x = self.soft(self.layer5(x))\n"
     ]
    },
    {
     "name": "stdout",
     "output_type": "stream",
     "text": [
      "Loss-ul la finalul epocii 1 are valoarea 0.5417119264602661\n",
      "Acuratetea la finalul epocii 1 este 0.00%\n",
      "Loss-ul la finalul epocii 2 are valoarea 0.500148355960846\n",
      "Acuratetea la finalul epocii 2 este 0.00%\n",
      "Loss-ul la finalul epocii 3 are valoarea 0.31549713015556335\n",
      "Acuratetea la finalul epocii 3 este 0.00%\n",
      "Loss-ul la finalul epocii 4 are valoarea 0.3135438561439514\n",
      "Acuratetea la finalul epocii 4 este 0.00%\n",
      "Loss-ul la finalul epocii 5 are valoarea 0.31344470381736755\n",
      "Acuratetea la finalul epocii 5 este 2.33%\n",
      "Loss-ul la finalul epocii 6 are valoarea 0.3133328855037689\n",
      "Acuratetea la finalul epocii 6 este 2.33%\n",
      "Loss-ul la finalul epocii 7 are valoarea 0.31327345967292786\n",
      "Acuratetea la finalul epocii 7 este 4.67%\n",
      "Loss-ul la finalul epocii 8 are valoarea 0.31327056884765625\n",
      "Acuratetea la finalul epocii 8 este 6.50%\n",
      "Loss-ul la finalul epocii 9 are valoarea 0.31326526403427124\n",
      "Acuratetea la finalul epocii 9 este 18.67%\n",
      "Loss-ul la finalul epocii 10 are valoarea 0.3132641315460205\n",
      "Acuratetea la finalul epocii 10 este 18.17%\n",
      "Loss-ul la finalul epocii 11 are valoarea 0.3132629990577698\n",
      "Acuratetea la finalul epocii 11 este 36.84%\n",
      "Loss-ul la finalul epocii 12 are valoarea 0.3132622539997101\n",
      "Acuratetea la finalul epocii 12 este 23.34%\n",
      "Loss-ul la finalul epocii 13 are valoarea 0.3132621645927429\n",
      "Acuratetea la finalul epocii 13 este 28.01%\n",
      "Loss-ul la finalul epocii 14 are valoarea 0.31326279044151306\n",
      "Acuratetea la finalul epocii 14 este 41.51%\n",
      "Loss-ul la finalul epocii 15 are valoarea 0.31326380372047424\n",
      "Acuratetea la finalul epocii 15 este 36.85%\n",
      "Loss-ul la finalul epocii 16 are valoarea 0.31326261162757874\n",
      "Acuratetea la finalul epocii 16 este 41.51%\n",
      "Loss-ul la finalul epocii 17 are valoarea 0.31326204538345337\n",
      "Acuratetea la finalul epocii 17 este 67.19%\n",
      "Loss-ul la finalul epocii 18 are valoarea 0.3132622539997101\n",
      "Acuratetea la finalul epocii 18 este 56.02%\n",
      "Loss-ul la finalul epocii 19 are valoarea 0.31326183676719666\n",
      "Acuratetea la finalul epocii 19 este 63.02%\n",
      "Loss-ul la finalul epocii 20 are valoarea 0.31326210498809814\n",
      "Acuratetea la finalul epocii 20 este 50.84%\n",
      "Loss-ul la finalul epocii 21 are valoarea 0.3132617473602295\n",
      "Acuratetea la finalul epocii 21 este 71.86%\n",
      "Loss-ul la finalul epocii 22 are valoarea 0.3132619559764862\n",
      "Acuratetea la finalul epocii 22 este 58.36%\n",
      "Loss-ul la finalul epocii 23 are valoarea 0.3132617771625519\n",
      "Acuratetea la finalul epocii 23 este 60.18%\n",
      "Loss-ul la finalul epocii 24 are valoarea 0.31326183676719666\n",
      "Acuratetea la finalul epocii 24 este 69.52%\n",
      "Loss-ul la finalul epocii 25 are valoarea 0.3608807921409607\n",
      "Acuratetea la finalul epocii 25 este 67.67%\n",
      "Loss-ul la finalul epocii 26 are valoarea 0.3132617175579071\n",
      "Acuratetea la finalul epocii 26 este 60.69%\n",
      "Loss-ul la finalul epocii 27 are valoarea 0.3132617175579071\n",
      "Acuratetea la finalul epocii 27 este 70.02%\n",
      "Loss-ul la finalul epocii 28 are valoarea 0.31326165795326233\n",
      "Acuratetea la finalul epocii 28 este 85.86%\n",
      "Loss-ul la finalul epocii 29 are valoarea 0.31326165795326233\n",
      "Acuratetea la finalul epocii 29 este 74.19%\n",
      "Loss-ul la finalul epocii 30 are valoarea 0.31326165795326233\n",
      "Acuratetea la finalul epocii 30 este 78.84%\n",
      "Loss-ul la finalul epocii 31 are valoarea 0.31326165795326233\n",
      "Acuratetea la finalul epocii 31 este 76.51%\n",
      "Loss-ul la finalul epocii 32 are valoarea 0.31326165795326233\n",
      "Acuratetea la finalul epocii 32 este 83.52%\n",
      "Loss-ul la finalul epocii 33 are valoarea 0.31326165795326233\n",
      "Acuratetea la finalul epocii 33 este 90.52%\n",
      "Loss-ul la finalul epocii 34 are valoarea 0.31326165795326233\n",
      "Acuratetea la finalul epocii 34 este 85.86%\n",
      "Loss-ul la finalul epocii 35 are valoarea 0.31326165795326233\n",
      "Acuratetea la finalul epocii 35 este 83.52%\n",
      "Loss-ul la finalul epocii 36 are valoarea 0.31326165795326233\n",
      "Acuratetea la finalul epocii 36 este 85.85%\n",
      "Loss-ul la finalul epocii 37 are valoarea 0.31326165795326233\n",
      "Acuratetea la finalul epocii 37 este 90.52%\n",
      "Loss-ul la finalul epocii 38 are valoarea 0.31326165795326233\n",
      "Acuratetea la finalul epocii 38 este 85.86%\n",
      "Loss-ul la finalul epocii 39 are valoarea 0.31326165795326233\n",
      "Acuratetea la finalul epocii 39 este 95.19%\n",
      "Loss-ul la finalul epocii 40 are valoarea 0.31326165795326233\n",
      "Acuratetea la finalul epocii 40 este 90.53%\n",
      "Loss-ul la finalul epocii 41 are valoarea 0.31326165795326233\n",
      "Acuratetea la finalul epocii 41 este 99.86%\n",
      "Loss-ul la finalul epocii 42 are valoarea 0.31326165795326233\n",
      "Acuratetea la finalul epocii 42 este 95.19%\n",
      "Loss-ul la finalul epocii 43 are valoarea 0.31326165795326233\n",
      "Acuratetea la finalul epocii 43 este 99.86%\n",
      "Loss-ul la finalul epocii 44 are valoarea 0.31326165795326233\n",
      "Acuratetea la finalul epocii 44 este 99.86%\n",
      "Loss-ul la finalul epocii 45 are valoarea 0.31326165795326233\n",
      "Acuratetea la finalul epocii 45 este 97.52%\n",
      "Loss-ul la finalul epocii 46 are valoarea 0.31326165795326233\n",
      "Acuratetea la finalul epocii 46 este 99.86%\n",
      "Loss-ul la finalul epocii 47 are valoarea 0.31326165795326233\n",
      "Acuratetea la finalul epocii 47 este 97.53%\n",
      "Loss-ul la finalul epocii 48 are valoarea 0.31326165795326233\n",
      "Acuratetea la finalul epocii 48 este 99.86%\n",
      "Loss-ul la finalul epocii 49 are valoarea 0.31326165795326233\n",
      "Acuratetea la finalul epocii 49 este 97.52%\n",
      "Loss-ul la finalul epocii 50 are valoarea 0.31326165795326233\n",
      "Acuratetea la finalul epocii 50 este 99.86%\n"
     ]
    }
   ],
   "source": [
    "for e in range(epochs):\n",
    "    cardNet.train()\n",
    "    for transaction, labels in train_dataloader:\n",
    "        out = cardNet(transaction)\n",
    "        #labels = torch.reshape(labels)\n",
    "        loss = CEloss(out, labels)\n",
    "        loss.backward()\n",
    "        optimizer.step()\n",
    "        optimizer.zero_grad()\n",
    "    print(\"Loss-ul la finalul epocii {} are valoarea {}\".format(e + 1, loss.item()))\n",
    "    acc = compute_accuracy(cardNet, test_dataloader)\n",
    "    print(\"Acuratetea la finalul epocii {} este {:.2f}%\".format(e + 1, acc))"
   ]
  },
  {
   "cell_type": "markdown",
   "id": "b7322230",
   "metadata": {},
   "source": [
    "# KNN approach"
   ]
  },
  {
   "cell_type": "code",
   "execution_count": 18,
   "id": "4ca2d4bc",
   "metadata": {},
   "outputs": [],
   "source": [
    "from sklearn.model_selection import train_test_split\n",
    "from sklearn.preprocessing import StandardScaler\n",
    "from sklearn.neighbors import KNeighborsClassifier\n",
    "from sklearn.metrics import confusion_matrix\n",
    "from sklearn.metrics import f1_score\n",
    "from sklearn.metrics import accuracy_score"
   ]
  },
  {
   "cell_type": "code",
   "execution_count": 4,
   "id": "0204de0f",
   "metadata": {},
   "outputs": [],
   "source": [
    "my_csv3 = pd.read_csv(r\"D:\\Programming shit\\Python\\MachineLearningDatasets\\creditcard.csv\")"
   ]
  },
  {
   "cell_type": "code",
   "execution_count": 5,
   "id": "c257c613",
   "metadata": {},
   "outputs": [],
   "source": [
    "transactions = my_csv2.iloc[:,0:30]\n",
    "labels = my_csv2.iloc[:,30]\n",
    "training_transactions, testing_transactions,training_labels,testing_labels = train_test_split(transactions,labels,test_size = .15)"
   ]
  },
  {
   "cell_type": "code",
   "execution_count": 6,
   "id": "2844ee86",
   "metadata": {},
   "outputs": [],
   "source": [
    "transactions_scaling = StandardScaler()\n",
    "training_transactions = transactions_scaling.fit_transform(training_transactions)\n",
    "testing_transactions = transactions_scaling.fit_transform(testing_transactions)"
   ]
  },
  {
   "cell_type": "code",
   "execution_count": 7,
   "id": "456b4deb",
   "metadata": {},
   "outputs": [],
   "source": [
    "from math import sqrt,trunc\n",
    "import datetime\n",
    "def checkprime(x):\n",
    "    for j in range(2,trunc(sqrt(x))):\n",
    "        if x%j == 0:\n",
    "            return False\n",
    "    return True\n",
    "f1_scores = []\n",
    "k_values = []\n",
    "accuracy_scores = []\n",
    "for i in range(trunc(sqrt(sqrt(training_transactions.shape[0]))),trunc(sqrt(training_transactions.shape[0]))):\n",
    "    if checkprime(i):\n",
    "        k_values.append(i)\n",
    "        \n",
    "        \n",
    "for k in k_values:\n",
    "    knn = KNeighborsClassifier(n_neighbors = k,p = 2,metric = 'euclidean')\n",
    "    knn.fit(training_transactions,training_labels)\n",
    "    predicted_labels = knn.predict(testing_transactions)\n",
    "    f1_scores.append(f1_score(testing_labels,predicted_labels))\n",
    "    accuracy_scores.append(accuracy_score(testing_labels,predicted_labels))\n"
   ]
  },
  {
   "cell_type": "code",
   "execution_count": 14,
   "id": "a49c44c9",
   "metadata": {},
   "outputs": [
    {
     "data": {
      "image/png": "[encoded data removed]",
      "text/plain": [
       "<Figure size 432x288 with 1 Axes>"
      ]
     },
     "metadata": {
      "needs_background": "light"
     },
     "output_type": "display_data"
    },
    {
     "data": {
      "image/png": "[encoded data removed]",
      "text/plain": [
       "<Figure size 432x288 with 1 Axes>"
      ]
     },
     "metadata": {
      "needs_background": "light"
     },
     "output_type": "display_data"
    }
   ],
   "source": [
    "import matplotlib.pyplot as plt\n",
    "plt.figure(0)\n",
    "plt.plot(k_values, f1_scores,label='F1 score')\n",
    "plt.legend(loc=\"lower left\")\n",
    "#plt.set(xlabel='Neighbours', ylabel='F1 score',label='F1 score evolution for different numbers of neighbors')\n",
    "plt.show()\n",
    "plt.figure(1)\n",
    "plt.plot(k_values, accuracy_scores,label='Accuracy score')\n",
    "plt.legend(loc=\"lower left\")\n",
    "#plt.set(xlabel='Neighbours', ylabel='Accuracy score',title='Accuracy score evolution for different numbers of neighbors')\n",
    "plt.show()"
   ]
  },
  {
   "cell_type": "code",
   "execution_count": 15,
   "id": "34bd711d",
   "metadata": {},
   "outputs": [
    {
     "name": "stdout",
     "output_type": "stream",
     "text": [
      "[0.8548387096774194, 0.8412698412698412, 0.8412698412698412, 0.8346456692913387, 0.8281250000000001, 0.8281250000000001, 0.8281250000000001, 0.8281250000000001, 0.8281250000000001, 0.8281250000000001, 0.8281250000000001, 0.8281250000000001, 0.8281250000000001, 0.8281250000000001, 0.8281250000000001, 0.8281250000000001, 0.8281250000000001, 0.8281250000000001, 0.8281250000000001, 0.8281250000000001, 0.8281250000000001, 0.8346456692913387, 0.8346456692913387, 0.8346456692913387, 0.8346456692913387, 0.8346456692913387, 0.8346456692913387, 0.8346456692913387, 0.8346456692913387, 0.8346456692913387, 0.8346456692913387, 0.8346456692913387, 0.8346456692913387, 0.8346456692913387, 0.8412698412698412, 0.8412698412698412, 0.8412698412698412, 0.8412698412698412, 0.8225806451612904, 0.8225806451612904, 0.8225806451612904, 0.8225806451612904, 0.8225806451612904, 0.8225806451612904, 0.8032786885245902, 0.8032786885245902, 0.8, 0.8, 0.8, 0.8, 0.8, 0.7899159663865546, 0.7796610169491526, 0.7692307692307693, 0.7586206896551724, 0.7586206896551724, 0.7586206896551724, 0.7586206896551724, 0.7586206896551724, 0.7586206896551724, 0.7586206896551724, 0.7586206896551724, 0.7586206896551724, 0.7586206896551724, 0.7586206896551724, 0.7586206896551724, 0.7586206896551724, 0.7586206896551724, 0.7586206896551724, 0.7586206896551724, 0.7586206896551724, 0.7586206896551724, 0.7586206896551724, 0.7586206896551724, 0.7586206896551724, 0.7586206896551724, 0.7478260869565216, 0.7478260869565216, 0.7478260869565216, 0.736842105263158, 0.7256637168141593, 0.7027027027027027, 0.7027027027027027, 0.6909090909090909, 0.6909090909090909, 0.6909090909090909, 0.6788990825688073, 0.6788990825688073, 0.6788990825688073, 0.6542056074766356, 0.6542056074766356, 0.6542056074766356, 0.56, 0.5154639175257733, 0.5154639175257733]\n"
     ]
    }
   ],
   "source": [
    "print(f1_scores)"
   ]
  },
  {
   "cell_type": "code",
   "execution_count": 16,
   "id": "bce0e942",
   "metadata": {},
   "outputs": [
    {
     "name": "stdout",
     "output_type": "stream",
     "text": [
      "[0.9995786714105145, 0.9995318571227939, 0.9995318571227939, 0.9995084499789336, 0.9994850428350732, 0.9994850428350732, 0.9994850428350732, 0.9994850428350732, 0.9994850428350732, 0.9994850428350732, 0.9994850428350732, 0.9994850428350732, 0.9994850428350732, 0.9994850428350732, 0.9994850428350732, 0.9994850428350732, 0.9994850428350732, 0.9994850428350732, 0.9994850428350732, 0.9994850428350732, 0.9994850428350732, 0.9995084499789336, 0.9995084499789336, 0.9995084499789336, 0.9995084499789336, 0.9995084499789336, 0.9995084499789336, 0.9995084499789336, 0.9995084499789336, 0.9995084499789336, 0.9995084499789336, 0.9995084499789336, 0.9995084499789336, 0.9995084499789336, 0.9995318571227939, 0.9995318571227939, 0.9995318571227939, 0.9995318571227939, 0.9994850428350732, 0.9994850428350732, 0.9994850428350732, 0.9994850428350732, 0.9994850428350732, 0.9994850428350732, 0.9994382285473526, 0.9994382285473526, 0.9994382285473526, 0.9994382285473526, 0.9994382285473526, 0.9994382285473526, 0.9994382285473526, 0.9994148214034924, 0.9993914142596321, 0.9993680071157718, 0.9993445999719114, 0.9993445999719114, 0.9993445999719114, 0.9993445999719114, 0.9993445999719114, 0.9993445999719114, 0.9993445999719114, 0.9993445999719114, 0.9993445999719114, 0.9993445999719114, 0.9993445999719114, 0.9993445999719114, 0.9993445999719114, 0.9993445999719114, 0.9993445999719114, 0.9993445999719114, 0.9993445999719114, 0.9993445999719114, 0.9993445999719114, 0.9993445999719114, 0.9993445999719114, 0.9993445999719114, 0.9993211928280511, 0.9993211928280511, 0.9993211928280511, 0.9992977856841908, 0.9992743785403305, 0.99922756425261, 0.99922756425261, 0.9992041571087495, 0.9992041571087495, 0.9992041571087495, 0.9991807499648893, 0.9991807499648893, 0.9991807499648893, 0.9991339356771687, 0.9991339356771687, 0.9991339356771687, 0.9989700856701466, 0.9988998642385656, 0.9988998642385656]\n"
     ]
    }
   ],
   "source": [
    "print(accuracy_scores)"
   ]
  },
  {
   "cell_type": "code",
   "execution_count": 17,
   "id": "233a4142",
   "metadata": {},
   "outputs": [],
   "source": [
    "for k in range(2,22):\n",
    "    if checkprime(k):\n",
    "        k_values = [k] + k_values\n",
    "        knn = KNeighborsClassifier(n_neighbors = k,p = 2,metric = 'euclidean')\n",
    "        knn.fit(training_transactions,training_labels)\n",
    "        predicted_labels = knn.predict(testing_transactions)\n",
    "        f1_scores= [f1_score(testing_labels,predicted_labels)] + f1_scores\n",
    "        accuracy_scores = [accuracy_score(testing_labels,predicted_labels)] + accuracy_scores\n"
   ]
  },
  {
   "cell_type": "code",
   "execution_count": 18,
   "id": "4fa52a85",
   "metadata": {},
   "outputs": [
    {
     "data": {
      "image/png": "[encoded data removed]",
      "text/plain": [
       "<Figure size 432x288 with 1 Axes>"
      ]
     },
     "metadata": {
      "needs_background": "light"
     },
     "output_type": "display_data"
    },
    {
     "data": {
      "image/png": "[encoded data removed]",
      "text/plain": [
       "<Figure size 432x288 with 1 Axes>"
      ]
     },
     "metadata": {
      "needs_background": "light"
     },
     "output_type": "display_data"
    }
   ],
   "source": [
    "import matplotlib.pyplot as plt\n",
    "plt.figure(0)\n",
    "plt.plot(k_values, f1_scores,label='F1 score')\n",
    "plt.legend(loc=\"lower left\")\n",
    "plt.show()\n",
    "plt.figure(1)\n",
    "plt.plot(k_values, accuracy_scores,label='Accuracy score')\n",
    "plt.legend(loc=\"lower left\")\n",
    "plt.show()"
   ]
  },
  {
   "cell_type": "markdown",
   "id": "2b4ce7f8",
   "metadata": {},
   "source": [
    "The imbalanced dataset makes increasing the k parameter take a big toll on the algorithm's precision. We can fix this by downsampling."
   ]
  },
  {
   "cell_type": "code",
   "execution_count": 4,
   "id": "be0c5a03",
   "metadata": {},
   "outputs": [],
   "source": [
    "my_csv3 = pd.read_csv(r\"D:\\Programming shit\\Python\\MachineLearningDatasets\\creditcard.csv\")"
   ]
  },
  {
   "cell_type": "code",
   "execution_count": 6,
   "id": "f2e545df",
   "metadata": {},
   "outputs": [
    {
     "data": {
      "text/html": [
       "<div>\n",
       "<style scoped>\n",
       "    .dataframe tbody tr th:only-of-type {\n",
       "        vertical-align: middle;\n",
       "    }\n",
       "\n",
       "    .dataframe tbody tr th {\n",
       "        vertical-align: top;\n",
       "    }\n",
       "\n",
       "    .dataframe thead th {\n",
       "        text-align: right;\n",
       "    }\n",
       "</style>\n",
       "<table border=\"1\" class=\"dataframe\">\n",
       "  <thead>\n",
       "    <tr style=\"text-align: right;\">\n",
       "      <th></th>\n",
       "      <th>Time</th>\n",
       "      <th>V1</th>\n",
       "      <th>V2</th>\n",
       "      <th>V3</th>\n",
       "      <th>V4</th>\n",
       "      <th>V5</th>\n",
       "      <th>V6</th>\n",
       "      <th>V7</th>\n",
       "      <th>V8</th>\n",
       "      <th>V9</th>\n",
       "      <th>...</th>\n",
       "      <th>V21</th>\n",
       "      <th>V22</th>\n",
       "      <th>V23</th>\n",
       "      <th>V24</th>\n",
       "      <th>V25</th>\n",
       "      <th>V26</th>\n",
       "      <th>V27</th>\n",
       "      <th>V28</th>\n",
       "      <th>Amount</th>\n",
       "      <th>Class</th>\n",
       "    </tr>\n",
       "  </thead>\n",
       "  <tbody>\n",
       "    <tr>\n",
       "      <th>0</th>\n",
       "      <td>0.0</td>\n",
       "      <td>-1.359807</td>\n",
       "      <td>-0.072781</td>\n",
       "      <td>2.536347</td>\n",
       "      <td>1.378155</td>\n",
       "      <td>-0.338321</td>\n",
       "      <td>0.462388</td>\n",
       "      <td>0.239599</td>\n",
       "      <td>0.098698</td>\n",
       "      <td>0.363787</td>\n",
       "      <td>...</td>\n",
       "      <td>-0.018307</td>\n",
       "      <td>0.277838</td>\n",
       "      <td>-0.110474</td>\n",
       "      <td>0.066928</td>\n",
       "      <td>0.128539</td>\n",
       "      <td>-0.189115</td>\n",
       "      <td>0.133558</td>\n",
       "      <td>-0.021053</td>\n",
       "      <td>149.62</td>\n",
       "      <td>0</td>\n",
       "    </tr>\n",
       "    <tr>\n",
       "      <th>1</th>\n",
       "      <td>0.0</td>\n",
       "      <td>1.191857</td>\n",
       "      <td>0.266151</td>\n",
       "      <td>0.166480</td>\n",
       "      <td>0.448154</td>\n",
       "      <td>0.060018</td>\n",
       "      <td>-0.082361</td>\n",
       "      <td>-0.078803</td>\n",
       "      <td>0.085102</td>\n",
       "      <td>-0.255425</td>\n",
       "      <td>...</td>\n",
       "      <td>-0.225775</td>\n",
       "      <td>-0.638672</td>\n",
       "      <td>0.101288</td>\n",
       "      <td>-0.339846</td>\n",
       "      <td>0.167170</td>\n",
       "      <td>0.125895</td>\n",
       "      <td>-0.008983</td>\n",
       "      <td>0.014724</td>\n",
       "      <td>2.69</td>\n",
       "      <td>0</td>\n",
       "    </tr>\n",
       "    <tr>\n",
       "      <th>2</th>\n",
       "      <td>1.0</td>\n",
       "      <td>-1.358354</td>\n",
       "      <td>-1.340163</td>\n",
       "      <td>1.773209</td>\n",
       "      <td>0.379780</td>\n",
       "      <td>-0.503198</td>\n",
       "      <td>1.800499</td>\n",
       "      <td>0.791461</td>\n",
       "      <td>0.247676</td>\n",
       "      <td>-1.514654</td>\n",
       "      <td>...</td>\n",
       "      <td>0.247998</td>\n",
       "      <td>0.771679</td>\n",
       "      <td>0.909412</td>\n",
       "      <td>-0.689281</td>\n",
       "      <td>-0.327642</td>\n",
       "      <td>-0.139097</td>\n",
       "      <td>-0.055353</td>\n",
       "      <td>-0.059752</td>\n",
       "      <td>378.66</td>\n",
       "      <td>0</td>\n",
       "    </tr>\n",
       "    <tr>\n",
       "      <th>3</th>\n",
       "      <td>1.0</td>\n",
       "      <td>-0.966272</td>\n",
       "      <td>-0.185226</td>\n",
       "      <td>1.792993</td>\n",
       "      <td>-0.863291</td>\n",
       "      <td>-0.010309</td>\n",
       "      <td>1.247203</td>\n",
       "      <td>0.237609</td>\n",
       "      <td>0.377436</td>\n",
       "      <td>-1.387024</td>\n",
       "      <td>...</td>\n",
       "      <td>-0.108300</td>\n",
       "      <td>0.005274</td>\n",
       "      <td>-0.190321</td>\n",
       "      <td>-1.175575</td>\n",
       "      <td>0.647376</td>\n",
       "      <td>-0.221929</td>\n",
       "      <td>0.062723</td>\n",
       "      <td>0.061458</td>\n",
       "      <td>123.50</td>\n",
       "      <td>0</td>\n",
       "    </tr>\n",
       "    <tr>\n",
       "      <th>4</th>\n",
       "      <td>2.0</td>\n",
       "      <td>-1.158233</td>\n",
       "      <td>0.877737</td>\n",
       "      <td>1.548718</td>\n",
       "      <td>0.403034</td>\n",
       "      <td>-0.407193</td>\n",
       "      <td>0.095921</td>\n",
       "      <td>0.592941</td>\n",
       "      <td>-0.270533</td>\n",
       "      <td>0.817739</td>\n",
       "      <td>...</td>\n",
       "      <td>-0.009431</td>\n",
       "      <td>0.798278</td>\n",
       "      <td>-0.137458</td>\n",
       "      <td>0.141267</td>\n",
       "      <td>-0.206010</td>\n",
       "      <td>0.502292</td>\n",
       "      <td>0.219422</td>\n",
       "      <td>0.215153</td>\n",
       "      <td>69.99</td>\n",
       "      <td>0</td>\n",
       "    </tr>\n",
       "  </tbody>\n",
       "</table>\n",
       "<p>5 rows × 31 columns</p>\n",
       "</div>"
      ],
      "text/plain": [
       "   Time        V1        V2        V3        V4        V5        V6        V7  \\\n",
       "0   0.0 -1.359807 -0.072781  2.536347  1.378155 -0.338321  0.462388  0.239599   \n",
       "1   0.0  1.191857  0.266151  0.166480  0.448154  0.060018 -0.082361 -0.078803   \n",
       "2   1.0 -1.358354 -1.340163  1.773209  0.379780 -0.503198  1.800499  0.791461   \n",
       "3   1.0 -0.966272 -0.185226  1.792993 -0.863291 -0.010309  1.247203  0.237609   \n",
       "4   2.0 -1.158233  0.877737  1.548718  0.403034 -0.407193  0.095921  0.592941   \n",
       "\n",
       "         V8        V9  ...       V21       V22       V23       V24       V25  \\\n",
       "0  0.098698  0.363787  ... -0.018307  0.277838 -0.110474  0.066928  0.128539   \n",
       "1  0.085102 -0.255425  ... -0.225775 -0.638672  0.101288 -0.339846  0.167170   \n",
       "2  0.247676 -1.514654  ...  0.247998  0.771679  0.909412 -0.689281 -0.327642   \n",
       "3  0.377436 -1.387024  ... -0.108300  0.005274 -0.190321 -1.175575  0.647376   \n",
       "4 -0.270533  0.817739  ... -0.009431  0.798278 -0.137458  0.141267 -0.206010   \n",
       "\n",
       "        V26       V27       V28  Amount  Class  \n",
       "0 -0.189115  0.133558 -0.021053  149.62      0  \n",
       "1  0.125895 -0.008983  0.014724    2.69      0  \n",
       "2 -0.139097 -0.055353 -0.059752  378.66      0  \n",
       "3 -0.221929  0.062723  0.061458  123.50      0  \n",
       "4  0.502292  0.219422  0.215153   69.99      0  \n",
       "\n",
       "[5 rows x 31 columns]"
      ]
     },
     "execution_count": 6,
     "metadata": {},
     "output_type": "execute_result"
    }
   ],
   "source": [
    "my_csv3.head()"
   ]
  },
  {
   "cell_type": "code",
   "execution_count": 9,
   "id": "0f24f6db",
   "metadata": {},
   "outputs": [
    {
     "name": "stdout",
     "output_type": "stream",
     "text": [
      "0    284315\n",
      "1       492\n",
      "Name: Class, dtype: int64\n"
     ]
    },
    {
     "data": {
      "text/plain": [
       "<AxesSubplot:ylabel='Type'>"
      ]
     },
     "execution_count": 9,
     "metadata": {},
     "output_type": "execute_result"
    },
    {
     "data": {
      "image/png": "[encoded data removed]",
      "text/plain": [
       "<Figure size 432x288 with 1 Axes>"
      ]
     },
     "metadata": {},
     "output_type": "display_data"
    }
   ],
   "source": [
    "import matplotlib.pyplot as plt\n",
    "\n",
    "print(my_csv3[\"Class\"].value_counts())\n",
    "my_csv3.groupby('Class').size().plot(kind='pie',\n",
    "                                       y = \"Class\",\n",
    "                                       label = \"Type\",\n",
    "                                       autopct='%1.1f%%')"
   ]
  },
  {
   "cell_type": "code",
   "execution_count": 10,
   "id": "92637c9a",
   "metadata": {},
   "outputs": [],
   "source": [
    "valid_transactions = my_csv3[my_csv3[\"Class\"] == 1]\n",
    "invalid_transactions = my_csv3[my_csv3[\"Class\"] == 0]"
   ]
  },
  {
   "cell_type": "code",
   "execution_count": 23,
   "id": "4302f394",
   "metadata": {},
   "outputs": [],
   "source": [
    "from sklearn.utils import resample\n",
    "from math import trunc\n",
    "valid_downsample = resample(valid_transactions,\n",
    "             replace=True,\n",
    "             n_samples=trunc(len(invalid_transactions)),\n",
    "             random_state=24)"
   ]
  },
  {
   "cell_type": "code",
   "execution_count": 24,
   "id": "bcf6cb0b",
   "metadata": {},
   "outputs": [
    {
     "data": {
      "text/plain": [
       "<AxesSubplot:ylabel='Type'>"
      ]
     },
     "execution_count": 24,
     "metadata": {},
     "output_type": "execute_result"
    },
    {
     "data": {
      "image/png": "[encoded data removed]",
      "text/plain": [
       "<Figure size 432x288 with 1 Axes>"
      ]
     },
     "metadata": {},
     "output_type": "display_data"
    }
   ],
   "source": [
    "new_dataset = pd.concat([valid_downsample,invalid_transactions])\n",
    "new_dataset.groupby('Class').size().plot(kind='pie',\n",
    "                                       y = \"Class\",\n",
    "                                       label = \"Type\",\n",
    "                                       autopct='%1.1f%%')"
   ]
  },
  {
   "cell_type": "code",
   "execution_count": 28,
   "id": "4524ae3b",
   "metadata": {},
   "outputs": [],
   "source": [
    "new_transactions = new_dataset.iloc[:,0:30]\n",
    "new_labels = new_dataset.iloc[:,30]\n",
    "new_training_transactions, new_testing_transactions,new_training_labels,new_testing_labels = train_test_split(new_transactions,new_labels,test_size = .15)\n",
    "transactions_scaling = StandardScaler()\n",
    "new_training_transactions = transactions_scaling.fit_transform(new_training_transactions)\n",
    "new_testing_transactions = transactions_scaling.fit_transform(new_testing_transactions)"
   ]
  },
  {
   "cell_type": "code",
   "execution_count": 26,
   "id": "bd066287",
   "metadata": {},
   "outputs": [],
   "source": [
    "new_f1_scores = []\n",
    "new_k_values = []\n",
    "new_accuracy_scores = []"
   ]
  },
  {
   "cell_type": "code",
   "execution_count": 29,
   "id": "165e9f93",
   "metadata": {},
   "outputs": [
    {
     "name": "stdout",
     "output_type": "stream",
     "text": [
      "695\n"
     ]
    }
   ],
   "source": [
    "from math import sqrt\n",
    "print(trunc(sqrt(new_training_transactions.shape[0])))"
   ]
  },
  {
   "cell_type": "code",
   "execution_count": null,
   "id": "4f3cfdfa",
   "metadata": {},
   "outputs": [],
   "source": [
    "knn = KNeighborsClassifier(n_neighbors = 695,p = 2,metric = 'euclidean')\n",
    "knn.fit(new_training_transactions,new_training_labels)\n",
    "new_predicted_labels = knn.predict(new_testing_transactions)\n",
    "print(\"F1 score :\"+str(f1_score(new_testing_labels,new_predicted_labels)))\n",
    "print(\"Accuracy score :\" +str(accuracy_score(new_testing_labels,new_predicted_labels)))\n"
   ]
  },
  {
   "cell_type": "code",
   "execution_count": null,
   "id": "e22299d4",
   "metadata": {},
   "outputs": [],
   "source": []
  }
 ],
 "metadata": {
  "kernelspec": {
   "display_name": "Python 3 (ipykernel)",
   "language": "python",
   "name": "python3"
  },
  "language_info": {
   "codemirror_mode": {
    "name": "ipython",
    "version": 3
   },
   "file_extension": ".py",
   "mimetype": "text/x-python",
   "name": "python",
   "nbconvert_exporter": "python",
   "pygments_lexer": "ipython3",
   "version": "3.9.7"
  }
 },
 "nbformat": 4,
 "nbformat_minor": 5
}
