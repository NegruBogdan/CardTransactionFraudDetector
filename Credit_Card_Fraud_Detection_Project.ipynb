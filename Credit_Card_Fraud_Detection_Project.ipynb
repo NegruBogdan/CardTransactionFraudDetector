{
 "cells": [
  {
   "cell_type": "markdown",
   "id": "a4334515",
   "metadata": {},
   "source": [
    "# Neural Network approach"
   ]
  },
  {
   "cell_type": "markdown",
   "id": "04b667eb",
   "metadata": {},
   "source": [
    "## Getting the dataset  ready(work in progress)"
   ]
  },
  {
   "cell_type": "code",
   "execution_count": 1,
   "id": "2cda4a85",
   "metadata": {},
   "outputs": [],
   "source": [
    "import pandas as pd\n",
    "my_csv = pd.read_csv(r\"D:\\Programming shit\\Python\\MachineLearningDatasets\\creditcard.csv\")"
   ]
  },
  {
   "cell_type": "code",
   "execution_count": 2,
   "id": "3fc329ff",
   "metadata": {},
   "outputs": [],
   "source": [
    "import numpy as np\n",
    "my_csv['split'] = np.random.randn(my_csv.shape[0], 1)"
   ]
  },
  {
   "cell_type": "code",
   "execution_count": 83,
   "id": "0d8aa0a3",
   "metadata": {},
   "outputs": [],
   "source": [
    "selection = np.random.rand(len(my_csv)) <= 0.85"
   ]
  },
  {
   "cell_type": "code",
   "execution_count": 84,
   "id": "fee6f5ac",
   "metadata": {},
   "outputs": [],
   "source": [
    "train_csv = my_csv[selection]\n",
    "test_csv = my_csv[~selection]"
   ]
  },
  {
   "cell_type": "code",
   "execution_count": 85,
   "id": "0740c4f9",
   "metadata": {},
   "outputs": [],
   "source": [
    "trainreader = csv.reader(train_csv.drop(columns = ['Class','split']), delimiter='t')\n",
    "testreader = csv.reader(test_csv.drop(columns = ['Class','split']), delimiter='t')\n",
    "transaction_data_train = []\n",
    "transaction_data_test = []\n",
    "for i, line in enumerate(trainreader):\n",
    "    transaction_data_train.append(line)\n",
    "for i, line in enumerate(testreader): \n",
    "    transaction_data_test.append(line)"
   ]
  },
  {
   "cell_type": "code",
   "execution_count": 86,
   "id": "9615c405",
   "metadata": {},
   "outputs": [],
   "source": [
    "transaction_data_train = train_csv.drop(columns = ['Class','split'])\n",
    "transaction_data_test = test_csv.drop(columns = ['Class','split'])"
   ]
  },
  {
   "cell_type": "code",
   "execution_count": 87,
   "id": "0b3f1c13",
   "metadata": {},
   "outputs": [],
   "source": [
    "transaction_labels_train = list(train_csv['Class'])\n",
    "transaction_labels_test = list(test_csv['Class'])"
   ]
  },
  {
   "cell_type": "code",
   "execution_count": 88,
   "id": "2dc1aeba",
   "metadata": {},
   "outputs": [],
   "source": [
    "import torch\n",
    "\n",
    "class CardTransactionsDataset(torch.utils.data.Dataset):\n",
    "    def __init__(self,labels,transactions_csv):\n",
    "        self.labels = labels\n",
    "        self.data = transactions_csv\n",
    "        \n",
    "    def __len__(self):\n",
    "        return len(self.labels)\n",
    "    \n",
    "    def __getitem__(self,idx):\n",
    "        return self.data[idx],self.labels[idx]\n",
    "        "
   ]
  },
  {
   "cell_type": "code",
   "execution_count": 93,
   "id": "9fab8bc1",
   "metadata": {},
   "outputs": [],
   "source": [
    "from torchvision.transforms.functional import to_tensor\n",
    "\n",
    "def my_collate(data):\n",
    "    processed_data = []\n",
    "    for line in data:\n",
    "        line = to_tensor(line)\n",
    "        line = line.unsqueeze(0)\n",
    "        processed_data.append(line)\n",
    "        newdata = torch.cat(processed_data,dim = 0)\n",
    "        return newdata"
   ]
  },
  {
   "cell_type": "code",
   "execution_count": 94,
   "id": "e7d8e361",
   "metadata": {},
   "outputs": [],
   "source": [
    "training_data = CardTransactionsDataset(transaction_labels_train,transaction_data_train)\n",
    "testing_data = CardTransactionsDataset(transaction_labels_test,transaction_data_test)"
   ]
  },
  {
   "cell_type": "code",
   "execution_count": 95,
   "id": "e0fbd8f2",
   "metadata": {},
   "outputs": [],
   "source": [
    "from torch.utils.data import DataLoader\n",
    "\n",
    "train_dataloader = DataLoader(training_data, batch_size=1000, shuffle=True,collate_fn=my_collate)\n",
    "test_dataloader = DataLoader(testing_data, batch_size=1000, shuffle=True,collate_fn=my_collate)"
   ]
  },
  {
   "cell_type": "markdown",
   "id": "1db240d5",
   "metadata": {},
   "source": [
    "## Defining the network(research in progress)"
   ]
  },
  {
   "cell_type": "code",
   "execution_count": null,
   "id": "edeabeff",
   "metadata": {},
   "outputs": [],
   "source": [
    "import torch.nn as nn\n",
    "\n",
    "class MyDAE(nn.Module):\n",
    "    def __init__(self):\n",
    "        super().__init__()\n",
    "        self.layer1 = nn.Linear(in_features = 30, out_features = 21)\n",
    "        self.relu = nn.ReLU()\n",
    "        self.layer2 = nn.Linear(in_features = 21, out_features = 14)\n",
    "        self.layer3= nn.Linear(in_features = 14, out_features = 9)\n",
    "        self.layer4= nn.Linear(in_features = 9, out_features = 14)\n",
    "        self.layer5= nn.Linear(in_features = 14, out_features = 21)\n",
    "        self.layer6= nn.Linear(in_features = 21, out_features = 30)\n",
    "        \n",
    "    def forward(self,x):\n",
    "        x = self.relu(self.layer1(x))\n",
    "        x = self.relu(self.layer2(x))\n",
    "        x = self.relu(self.layer3(x))\n",
    "        x = self.relu(self.layer4(x))\n",
    "        x = self.relu(self.layer5(x))\n",
    "        x = self.relu(self.layer6(x))\n",
    "        return x"
   ]
  },
  {
   "cell_type": "code",
   "execution_count": null,
   "id": "ff47495c",
   "metadata": {},
   "outputs": [],
   "source": [
    "class CardNet(nn.Module):\n",
    "    def __init__(self):\n",
    "        super().__init__()\n",
    "        self.dae = MyDAE()\n",
    "        self.relu = nn.ReLU()\n",
    "        self.soft = nn.Softmax()\n",
    "        self.layer1 = nn.Linear(in_features = 30, out_features = 20)\n",
    "        self.layer2 = nn.Linear(in_features = 20, out_features = 15)\n",
    "        self.layer3 = nn.Linear(in_features = 15, out_features = 10)\n",
    "        self.layer4 = nn.Linear(in_features = 10, out_features = 5)\n",
    "        self.layer5 = nn.Linear(in_features = 5, out_features = 2)\n",
    "        \n",
    "    def forward(self,x):\n",
    "        x = self.dae(x)\n",
    "        x = self.relu(self.layer1(x))\n",
    "        x = self.relu(self.layer2(x))\n",
    "        x = self.relu(self.layer3(x))\n",
    "        x = self.relu(self.layer4(x))\n",
    "        x = self.soft(self.layer5(x))\n",
    "        return x"
   ]
  },
  {
   "cell_type": "markdown",
   "id": "5fb87e9b",
   "metadata": {},
   "source": [
    "## Actual training"
   ]
  },
  {
   "cell_type": "code",
   "execution_count": null,
   "id": "beda3ba9",
   "metadata": {},
   "outputs": [],
   "source": [
    "import torch.optim as optim\n",
    "\n",
    "epochs = 50\n",
    "\n",
    "cardNet = CardNet()\n",
    "\n",
    "optimiser = optim.Adam(params= cardNet.parameters(),lr = 1e-3)\n",
    "\n",
    "optimiser.zero_grad()\n",
    "\n",
    "loss = nn.CrossEntropyLoss"
   ]
  },
  {
   "cell_type": "code",
   "execution_count": null,
   "id": "c8c50b07",
   "metadata": {},
   "outputs": [],
   "source": [
    "def compute_accuracy(net: nn.Module, test_loader: DataLoader):\n",
    "    net.eval()\n",
    "    total = 0\n",
    "    correct = 0\n",
    "    for test_transaction, test_labels in test_loader:\n",
    "        total += len(test_images)\n",
    "        out_class = torch.argmax(net(test_images))\n",
    "        correct += torch.sum(out_class == test_labels)\n",
    "\n",
    "    return correct / total * 100"
   ]
  },
  {
   "cell_type": "code",
   "execution_count": null,
   "id": "eb6974be",
   "metadata": {},
   "outputs": [],
   "source": [
    "for e in range(epochs):\n",
    "    net.train()\n",
    "    for transaction, labels in train_dataloader:\n",
    "        out = cardNet(transaction)\n",
    "        labels = torch.reshape(labels)\n",
    "        loss = loss_fn(out, labels)\n",
    "        loss.backward()\n",
    "        optimizer.step()\n",
    "        optimizer.zero_grad()\n",
    "    print(\"Loss-ul la finalul epocii {} are valoarea {}\".format(e, loss.item()))\n",
    "    acc = test_acc(cardNet, test_dataloader)\n",
    "    print(\"Acuratetea la finalul epocii {} este {:.2f}%\".format(e + 1, acc))"
   ]
  },
  {
   "cell_type": "markdown",
   "id": "b7322230",
   "metadata": {},
   "source": [
    "# KNN approach"
   ]
  },
  {
   "cell_type": "code",
   "execution_count": 3,
   "id": "4ca2d4bc",
   "metadata": {},
   "outputs": [],
   "source": [
    "from sklearn.model_selection import train_test_split\n",
    "from sklearn.preprocessing import StandardScaler\n",
    "from sklearn.neighbors import KNeighborsClassifier\n",
    "from sklearn.metrics import confusion_matrix\n",
    "from sklearn.metrics import f1_score\n",
    "from sklearn.metrics import accuracy_score"
   ]
  },
  {
   "cell_type": "code",
   "execution_count": 4,
   "id": "0204de0f",
   "metadata": {},
   "outputs": [],
   "source": [
    "my_csv2 = pd.read_csv(r\"D:\\Programming shit\\Python\\MachineLearningDatasets\\creditcard.csv\")"
   ]
  },
  {
   "cell_type": "code",
   "execution_count": 5,
   "id": "c257c613",
   "metadata": {},
   "outputs": [],
   "source": [
    "transactions = my_csv2.iloc[:,0:30]\n",
    "labels = my_csv2.iloc[:,30]\n",
    "training_transactions, testing_transactions,training_labels,testing_labels = train_test_split(transactions,labels,test_size = .15)"
   ]
  },
  {
   "cell_type": "code",
   "execution_count": 6,
   "id": "2844ee86",
   "metadata": {},
   "outputs": [],
   "source": [
    "transactions_scaling = StandardScaler()\n",
    "training_transactions = transactions_scaling.fit_transform(training_transactions)\n",
    "testing_transactions = transactions_scaling.fit_transform(testing_transactions)"
   ]
  },
  {
   "cell_type": "code",
   "execution_count": 7,
   "id": "456b4deb",
   "metadata": {},
   "outputs": [],
   "source": [
    "from math import sqrt,trunc\n",
    "import datetime\n",
    "def checkprime(x):\n",
    "    for j in range(2,trunc(sqrt(x))):\n",
    "        if x%j == 0:\n",
    "            return False\n",
    "    return True\n",
    "f1_scores = []\n",
    "k_values = []\n",
    "accuracy_scores = []\n",
    "for i in range(trunc(sqrt(sqrt(training_transactions.shape[0]))),trunc(sqrt(training_transactions.shape[0]))):\n",
    "    if checkprime(i):\n",
    "        k_values.append(i)\n",
    "        \n",
    "        \n",
    "for k in k_values:\n",
    "    knn = KNeighborsClassifier(n_neighbors = k,p = 2,metric = 'euclidean')\n",
    "    knn.fit(training_transactions,training_labels)\n",
    "    predicted_labels = knn.predict(testing_transactions)\n",
    "    f1_scores.append(f1_score(testing_labels,predicted_labels))\n",
    "    accuracy_scores.append(accuracy_score(testing_labels,predicted_labels))\n"
   ]
  },
  {
   "cell_type": "code",
   "execution_count": 14,
   "id": "a49c44c9",
   "metadata": {},
   "outputs": [
    {
     "data": {
      "image/png": "[encoded data removed]",
      "text/plain": [
       "<Figure size 432x288 with 1 Axes>"
      ]
     },
     "metadata": {
      "needs_background": "light"
     },
     "output_type": "display_data"
    },
    {
     "data": {
      "image/png": "[encoded data removed]",
      "text/plain": [
       "<Figure size 432x288 with 1 Axes>"
      ]
     },
     "metadata": {
      "needs_background": "light"
     },
     "output_type": "display_data"
    }
   ],
   "source": [
    "import matplotlib.pyplot as plt\n",
    "plt.figure(0)\n",
    "plt.plot(k_values, f1_scores,label='F1 score')\n",
    "plt.legend(loc=\"lower left\")\n",
    "#plt.set(xlabel='Neighbours', ylabel='F1 score',label='F1 score evolution for different numbers of neighbors')\n",
    "plt.show()\n",
    "plt.figure(1)\n",
    "plt.plot(k_values, accuracy_scores,label='Accuracy score')\n",
    "plt.legend(loc=\"lower left\")\n",
    "#plt.set(xlabel='Neighbours', ylabel='Accuracy score',title='Accuracy score evolution for different numbers of neighbors')\n",
    "plt.show()"
   ]
  },
  {
   "cell_type": "code",
   "execution_count": 15,
   "id": "34bd711d",
   "metadata": {},
   "outputs": [
    {
     "name": "stdout",
     "output_type": "stream",
     "text": [
      "[0.8548387096774194, 0.8412698412698412, 0.8412698412698412, 0.8346456692913387, 0.8281250000000001, 0.8281250000000001, 0.8281250000000001, 0.8281250000000001, 0.8281250000000001, 0.8281250000000001, 0.8281250000000001, 0.8281250000000001, 0.8281250000000001, 0.8281250000000001, 0.8281250000000001, 0.8281250000000001, 0.8281250000000001, 0.8281250000000001, 0.8281250000000001, 0.8281250000000001, 0.8281250000000001, 0.8346456692913387, 0.8346456692913387, 0.8346456692913387, 0.8346456692913387, 0.8346456692913387, 0.8346456692913387, 0.8346456692913387, 0.8346456692913387, 0.8346456692913387, 0.8346456692913387, 0.8346456692913387, 0.8346456692913387, 0.8346456692913387, 0.8412698412698412, 0.8412698412698412, 0.8412698412698412, 0.8412698412698412, 0.8225806451612904, 0.8225806451612904, 0.8225806451612904, 0.8225806451612904, 0.8225806451612904, 0.8225806451612904, 0.8032786885245902, 0.8032786885245902, 0.8, 0.8, 0.8, 0.8, 0.8, 0.7899159663865546, 0.7796610169491526, 0.7692307692307693, 0.7586206896551724, 0.7586206896551724, 0.7586206896551724, 0.7586206896551724, 0.7586206896551724, 0.7586206896551724, 0.7586206896551724, 0.7586206896551724, 0.7586206896551724, 0.7586206896551724, 0.7586206896551724, 0.7586206896551724, 0.7586206896551724, 0.7586206896551724, 0.7586206896551724, 0.7586206896551724, 0.7586206896551724, 0.7586206896551724, 0.7586206896551724, 0.7586206896551724, 0.7586206896551724, 0.7586206896551724, 0.7478260869565216, 0.7478260869565216, 0.7478260869565216, 0.736842105263158, 0.7256637168141593, 0.7027027027027027, 0.7027027027027027, 0.6909090909090909, 0.6909090909090909, 0.6909090909090909, 0.6788990825688073, 0.6788990825688073, 0.6788990825688073, 0.6542056074766356, 0.6542056074766356, 0.6542056074766356, 0.56, 0.5154639175257733, 0.5154639175257733]\n"
     ]
    }
   ],
   "source": [
    "print(f1_scores)"
   ]
  },
  {
   "cell_type": "code",
   "execution_count": 16,
   "id": "bce0e942",
   "metadata": {},
   "outputs": [
    {
     "name": "stdout",
     "output_type": "stream",
     "text": [
      "[0.9995786714105145, 0.9995318571227939, 0.9995318571227939, 0.9995084499789336, 0.9994850428350732, 0.9994850428350732, 0.9994850428350732, 0.9994850428350732, 0.9994850428350732, 0.9994850428350732, 0.9994850428350732, 0.9994850428350732, 0.9994850428350732, 0.9994850428350732, 0.9994850428350732, 0.9994850428350732, 0.9994850428350732, 0.9994850428350732, 0.9994850428350732, 0.9994850428350732, 0.9994850428350732, 0.9995084499789336, 0.9995084499789336, 0.9995084499789336, 0.9995084499789336, 0.9995084499789336, 0.9995084499789336, 0.9995084499789336, 0.9995084499789336, 0.9995084499789336, 0.9995084499789336, 0.9995084499789336, 0.9995084499789336, 0.9995084499789336, 0.9995318571227939, 0.9995318571227939, 0.9995318571227939, 0.9995318571227939, 0.9994850428350732, 0.9994850428350732, 0.9994850428350732, 0.9994850428350732, 0.9994850428350732, 0.9994850428350732, 0.9994382285473526, 0.9994382285473526, 0.9994382285473526, 0.9994382285473526, 0.9994382285473526, 0.9994382285473526, 0.9994382285473526, 0.9994148214034924, 0.9993914142596321, 0.9993680071157718, 0.9993445999719114, 0.9993445999719114, 0.9993445999719114, 0.9993445999719114, 0.9993445999719114, 0.9993445999719114, 0.9993445999719114, 0.9993445999719114, 0.9993445999719114, 0.9993445999719114, 0.9993445999719114, 0.9993445999719114, 0.9993445999719114, 0.9993445999719114, 0.9993445999719114, 0.9993445999719114, 0.9993445999719114, 0.9993445999719114, 0.9993445999719114, 0.9993445999719114, 0.9993445999719114, 0.9993445999719114, 0.9993211928280511, 0.9993211928280511, 0.9993211928280511, 0.9992977856841908, 0.9992743785403305, 0.99922756425261, 0.99922756425261, 0.9992041571087495, 0.9992041571087495, 0.9992041571087495, 0.9991807499648893, 0.9991807499648893, 0.9991807499648893, 0.9991339356771687, 0.9991339356771687, 0.9991339356771687, 0.9989700856701466, 0.9988998642385656, 0.9988998642385656]\n"
     ]
    }
   ],
   "source": [
    "print(accuracy_scores)"
   ]
  },
  {
   "cell_type": "code",
   "execution_count": 17,
   "id": "233a4142",
   "metadata": {},
   "outputs": [],
   "source": [
    "for k in range(2,22):\n",
    "    if checkprime(k):\n",
    "        k_values = [k] + k_values\n",
    "        knn = KNeighborsClassifier(n_neighbors = k,p = 2,metric = 'euclidean')\n",
    "        knn.fit(training_transactions,training_labels)\n",
    "        predicted_labels = knn.predict(testing_transactions)\n",
    "        f1_scores= [f1_score(testing_labels,predicted_labels)] + f1_scores\n",
    "        accuracy_scores = [accuracy_score(testing_labels,predicted_labels)] + accuracy_scores\n"
   ]
  },
  {
   "cell_type": "code",
   "execution_count": 18,
   "id": "4fa52a85",
   "metadata": {},
   "outputs": [
    {
     "data": {
      "image/png": "[encoded data removed]",
      "text/plain": [
       "<Figure size 432x288 with 1 Axes>"
      ]
     },
     "metadata": {
      "needs_background": "light"
     },
     "output_type": "display_data"
    },
    {
     "data": {
      "image/png": "[encoded data removed]",
      "text/plain": [
       "<Figure size 432x288 with 1 Axes>"
      ]
     },
     "metadata": {
      "needs_background": "light"
     },
     "output_type": "display_data"
    }
   ],
   "source": [
    "import matplotlib.pyplot as plt\n",
    "plt.figure(0)\n",
    "plt.plot(k_values, f1_scores,label='F1 score')\n",
    "plt.legend(loc=\"lower left\")\n",
    "plt.show()\n",
    "plt.figure(1)\n",
    "plt.plot(k_values, accuracy_scores,label='Accuracy score')\n",
    "plt.legend(loc=\"lower left\")\n",
    "plt.show()"
   ]
  },
  {
   "cell_type": "code",
   "execution_count": null,
   "id": "b3c9dca2",
   "metadata": {},
   "outputs": [],
   "source": []
  }
 ],
 "metadata": {
  "kernelspec": {
   "display_name": "Python 3 (ipykernel)",
   "language": "python",
   "name": "python3"
  },
  "language_info": {
   "codemirror_mode": {
    "name": "ipython",
    "version": 3
   },
   "file_extension": ".py",
   "mimetype": "text/x-python",
   "name": "python",
   "nbconvert_exporter": "python",
   "pygments_lexer": "ipython3",
   "version": "3.9.7"
  }
 },
 "nbformat": 4,
 "nbformat_minor": 5
}
