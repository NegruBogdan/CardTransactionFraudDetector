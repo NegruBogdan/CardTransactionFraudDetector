{
 "cells": [
  {
   "cell_type": "markdown",
   "id": "04b667eb",
   "metadata": {},
   "source": [
    "# Getting the dataset  ready"
   ]
  },
  {
   "cell_type": "code",
   "execution_count": 81,
   "id": "2cda4a85",
   "metadata": {},
   "outputs": [],
   "source": [
    "import pandas as pd\n",
    "my_csv = pd.read_csv(r\"D:\\Programming shit\\Python\\MachineLearningDatasets\\creditcard.csv\")"
   ]
  },
  {
   "cell_type": "code",
   "execution_count": 82,
   "id": "3fc329ff",
   "metadata": {},
   "outputs": [],
   "source": [
    "import numpy as np\n",
    "my_csv['split'] = np.random.randn(my_csv.shape[0], 1)"
   ]
  },
  {
   "cell_type": "code",
   "execution_count": 83,
   "id": "0d8aa0a3",
   "metadata": {},
   "outputs": [],
   "source": [
    "selection = np.random.rand(len(my_csv)) <= 0.85"
   ]
  },
  {
   "cell_type": "code",
   "execution_count": 84,
   "id": "fee6f5ac",
   "metadata": {},
   "outputs": [],
   "source": [
    "train_csv = my_csv[selection]\n",
    "test_csv = my_csv[~selection]"
   ]
  },
  {
   "cell_type": "code",
   "execution_count": 85,
   "id": "0740c4f9",
   "metadata": {},
   "outputs": [],
   "source": [
    "trainreader = csv.reader(train_csv.drop(columns = ['Class','split']), delimiter='t')\n",
    "testreader = csv.reader(test_csv.drop(columns = ['Class','split']), delimiter='t')\n",
    "transaction_data_train = []\n",
    "transaction_data_test = []\n",
    "for i, line in enumerate(trainreader):\n",
    "    transaction_data_train.append(line)\n",
    "for i, line in enumerate(testreader): \n",
    "    transaction_data_test.append(line)"
   ]
  },
  {
   "cell_type": "code",
   "execution_count": 86,
   "id": "9615c405",
   "metadata": {},
   "outputs": [],
   "source": [
    "transaction_data_train = train_csv.drop(columns = ['Class','split'])\n",
    "transaction_data_test = test_csv.drop(columns = ['Class','split'])"
   ]
  },
  {
   "cell_type": "code",
   "execution_count": 87,
   "id": "0b3f1c13",
   "metadata": {},
   "outputs": [],
   "source": [
    "transaction_labels_train = list(train_csv['Class'])\n",
    "transaction_labels_test = list(test_csv['Class'])"
   ]
  },
  {
   "cell_type": "code",
   "execution_count": 88,
   "id": "2dc1aeba",
   "metadata": {},
   "outputs": [],
   "source": [
    "import torch\n",
    "\n",
    "class CardTransactionsDataset(torch.utils.data.Dataset):\n",
    "    def __init__(self,labels,transactions_csv):\n",
    "        self.labels = labels\n",
    "        self.data = transactions_csv\n",
    "        \n",
    "    def __len__(self):\n",
    "        return len(self.labels)\n",
    "    \n",
    "    def __getitem__(self,idx):\n",
    "        return self.data[idx],self.labels[idx]\n",
    "        "
   ]
  },
  {
   "cell_type": "code",
   "execution_count": 93,
   "id": "9fab8bc1",
   "metadata": {},
   "outputs": [],
   "source": [
    "from torchvision.transforms.functional import to_tensor\n",
    "\n",
    "def my_collate(data):\n",
    "    processed_data = []\n",
    "    for line in data:\n",
    "        line = to_tensor(line)\n",
    "        line = line.unsqueeze(0)\n",
    "        processed_data.append(line)\n",
    "        newdata = torch.cat(processed_data,dim = 0)\n",
    "        return newdata"
   ]
  },
  {
   "cell_type": "code",
   "execution_count": 94,
   "id": "e7d8e361",
   "metadata": {},
   "outputs": [],
   "source": [
    "training_data = CardTransactionsDataset(transaction_labels_train,transaction_data_train)\n",
    "testing_data = CardTransactionsDataset(transaction_labels_test,transaction_data_test)"
   ]
  },
  {
   "cell_type": "code",
   "execution_count": 95,
   "id": "e0fbd8f2",
   "metadata": {},
   "outputs": [],
   "source": [
    "from torch.utils.data import DataLoader\n",
    "\n",
    "train_dataloader = DataLoader(training_data, batch_size=1000, shuffle=True,collate_fn=my_collate)\n",
    "test_dataloader = DataLoader(testing_data, batch_size=1000, shuffle=True,collate_fn=my_collate)"
   ]
  }
 ],
 "metadata": {
  "kernelspec": {
   "display_name": "Python 3 (ipykernel)",
   "language": "python",
   "name": "python3"
  },
  "language_info": {
   "codemirror_mode": {
    "name": "ipython",
    "version": 3
   },
   "file_extension": ".py",
   "mimetype": "text/x-python",
   "name": "python",
   "nbconvert_exporter": "python",
   "pygments_lexer": "ipython3",
   "version": "3.9.7"
  }
 },
 "nbformat": 4,
 "nbformat_minor": 5
}
