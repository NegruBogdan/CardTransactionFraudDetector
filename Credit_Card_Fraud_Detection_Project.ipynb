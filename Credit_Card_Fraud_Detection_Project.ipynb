{
 "cells": [
  {
   "cell_type": "markdown",
   "id": "a4334515",
   "metadata": {},
   "source": [
    "# Neural Network approach"
   ]
  },
  {
   "cell_type": "markdown",
   "id": "04b667eb",
   "metadata": {},
   "source": [
    "## Getting the dataset  ready"
   ]
  },
  {
   "cell_type": "code",
   "execution_count": 2,
   "id": "2cda4a85",
   "metadata": {},
   "outputs": [],
   "source": [
    "import pandas as pd\n",
    "my_csv = pd.read_csv(r\"D:\\Programming shit\\Python\\MachineLearningDatasets\\creditcard.csv\")"
   ]
  },
  {
   "cell_type": "code",
   "execution_count": 4,
   "id": "3fc329ff",
   "metadata": {},
   "outputs": [],
   "source": [
    "import numpy as np\n",
    "my_csv['split'] = np.random.randn(my_csv.shape[0], 1)"
   ]
  },
  {
   "cell_type": "code",
   "execution_count": 83,
   "id": "0d8aa0a3",
   "metadata": {},
   "outputs": [],
   "source": [
    "selection = np.random.rand(len(my_csv)) <= 0.85"
   ]
  },
  {
   "cell_type": "code",
   "execution_count": 84,
   "id": "fee6f5ac",
   "metadata": {},
   "outputs": [],
   "source": [
    "train_csv = my_csv[selection]\n",
    "test_csv = my_csv[~selection]"
   ]
  },
  {
   "cell_type": "code",
   "execution_count": 85,
   "id": "0740c4f9",
   "metadata": {},
   "outputs": [],
   "source": [
    "trainreader = csv.reader(train_csv.drop(columns = ['Class','split']), delimiter='t')\n",
    "testreader = csv.reader(test_csv.drop(columns = ['Class','split']), delimiter='t')\n",
    "transaction_data_train = []\n",
    "transaction_data_test = []\n",
    "for i, line in enumerate(trainreader):\n",
    "    transaction_data_train.append(line)\n",
    "for i, line in enumerate(testreader): \n",
    "    transaction_data_test.append(line)"
   ]
  },
  {
   "cell_type": "code",
   "execution_count": 86,
   "id": "9615c405",
   "metadata": {},
   "outputs": [],
   "source": [
    "transaction_data_train = train_csv.drop(columns = ['Class','split'])\n",
    "transaction_data_test = test_csv.drop(columns = ['Class','split'])"
   ]
  },
  {
   "cell_type": "code",
   "execution_count": 87,
   "id": "0b3f1c13",
   "metadata": {},
   "outputs": [],
   "source": [
    "transaction_labels_train = list(train_csv['Class'])\n",
    "transaction_labels_test = list(test_csv['Class'])"
   ]
  },
  {
   "cell_type": "code",
   "execution_count": 88,
   "id": "2dc1aeba",
   "metadata": {},
   "outputs": [],
   "source": [
    "import torch\n",
    "\n",
    "class CardTransactionsDataset(torch.utils.data.Dataset):\n",
    "    def __init__(self,labels,transactions_csv):\n",
    "        self.labels = labels\n",
    "        self.data = transactions_csv\n",
    "        \n",
    "    def __len__(self):\n",
    "        return len(self.labels)\n",
    "    \n",
    "    def __getitem__(self,idx):\n",
    "        return self.data[idx],self.labels[idx]\n",
    "        "
   ]
  },
  {
   "cell_type": "code",
   "execution_count": 93,
   "id": "9fab8bc1",
   "metadata": {},
   "outputs": [],
   "source": [
    "from torchvision.transforms.functional import to_tensor\n",
    "\n",
    "def my_collate(data):\n",
    "    processed_data = []\n",
    "    for line in data:\n",
    "        line = to_tensor(line)\n",
    "        line = line.unsqueeze(0)\n",
    "        processed_data.append(line)\n",
    "        newdata = torch.cat(processed_data,dim = 0)\n",
    "        return newdata"
   ]
  },
  {
   "cell_type": "code",
   "execution_count": 94,
   "id": "e7d8e361",
   "metadata": {},
   "outputs": [],
   "source": [
    "training_data = CardTransactionsDataset(transaction_labels_train,transaction_data_train)\n",
    "testing_data = CardTransactionsDataset(transaction_labels_test,transaction_data_test)"
   ]
  },
  {
   "cell_type": "code",
   "execution_count": 95,
   "id": "e0fbd8f2",
   "metadata": {},
   "outputs": [],
   "source": [
    "from torch.utils.data import DataLoader\n",
    "\n",
    "train_dataloader = DataLoader(training_data, batch_size=1000, shuffle=True,collate_fn=my_collate)\n",
    "test_dataloader = DataLoader(testing_data, batch_size=1000, shuffle=True,collate_fn=my_collate)"
   ]
  },
  {
   "cell_type": "markdown",
   "id": "1db240d5",
   "metadata": {},
   "source": [
    "## Defining the network"
   ]
  },
  {
   "cell_type": "code",
   "execution_count": null,
   "id": "ff47495c",
   "metadata": {},
   "outputs": [],
   "source": [
    "import torch.nn as nn\n",
    "\n",
    "class CardNet(nn.Module):\n",
    "    def __init__(self):\n",
    "        super().__init__()"
   ]
  },
  {
   "cell_type": "markdown",
   "id": "5fb87e9b",
   "metadata": {},
   "source": [
    "## Actual training"
   ]
  },
  {
   "cell_type": "code",
   "execution_count": null,
   "id": "beda3ba9",
   "metadata": {},
   "outputs": [],
   "source": []
  },
  {
   "cell_type": "markdown",
   "id": "b7322230",
   "metadata": {},
   "source": [
    "# KNN approach"
   ]
  },
  {
   "cell_type": "code",
   "execution_count": 5,
   "id": "4ca2d4bc",
   "metadata": {},
   "outputs": [],
   "source": [
    "from sklearn.model_selection import train_test_split\n",
    "from sklearn.preprocessing import StandardScaler\n",
    "from sklearn.neighbors import KNeighborsClassifier\n",
    "from sklearn.metrics import confusion_matrix\n",
    "from sklearn.metrics import f1_score\n",
    "from sklearn.metrics import accuracy_score"
   ]
  },
  {
   "cell_type": "code",
   "execution_count": 3,
   "id": "0204de0f",
   "metadata": {},
   "outputs": [],
   "source": [
    "my_csv2 = pd.read_csv(r\"D:\\Programming shit\\Python\\MachineLearningDatasets\\creditcard.csv\")"
   ]
  },
  {
   "cell_type": "code",
   "execution_count": 45,
   "id": "c257c613",
   "metadata": {},
   "outputs": [],
   "source": [
    "transactions = my_csv2.iloc[:,0:30]\n",
    "labels = my_csv2.iloc[:,30]\n",
    "training_transactions, testing_transactions,training_labels,testing_labels = train_test_split(transactions,labels,test_size = .15)"
   ]
  },
  {
   "cell_type": "code",
   "execution_count": 46,
   "id": "2844ee86",
   "metadata": {},
   "outputs": [],
   "source": [
    "transactions_scaling = StandardScaler()\n",
    "training_transactions = transactions_scaling.fit_transform(training_transactions)\n",
    "testing_transactions = transactions_scaling.fit_transform(testing_transactions)"
   ]
  },
  {
   "cell_type": "code",
   "execution_count": 47,
   "id": "f7ba4a4b",
   "metadata": {},
   "outputs": [
    {
     "name": "stdout",
     "output_type": "stream",
     "text": [
      "491\n"
     ]
    }
   ],
   "source": [
    "from math import sqrt,trunc\n",
    "print(trunc(sqrt(training_transactions.shape[0]))-1)"
   ]
  },
  {
   "cell_type": "code",
   "execution_count": 50,
   "id": "7e196299",
   "metadata": {},
   "outputs": [],
   "source": [
    "knn = KNeighborsClassifier(n_neighbors= 491,p = 2,metric = 'euclidean')"
   ]
  },
  {
   "cell_type": "code",
   "execution_count": 51,
   "id": "6147126c",
   "metadata": {},
   "outputs": [
    {
     "data": {
      "text/plain": [
       "KNeighborsClassifier(metric='euclidean', n_neighbors=491)"
      ]
     },
     "execution_count": 51,
     "metadata": {},
     "output_type": "execute_result"
    }
   ],
   "source": [
    "knn.fit(training_transactions,training_labels)"
   ]
  },
  {
   "cell_type": "code",
   "execution_count": 56,
   "id": "d970b754",
   "metadata": {},
   "outputs": [],
   "source": [
    "predicted_labels = knn.predict(testing_transactions)"
   ]
  },
  {
   "cell_type": "code",
   "execution_count": 57,
   "id": "6f027c4d",
   "metadata": {},
   "outputs": [],
   "source": [
    "confusion_matrix = confusion_matrix(testing_labels,predicted_labels)"
   ]
  },
  {
   "cell_type": "code",
   "execution_count": 58,
   "id": "ccbdd112",
   "metadata": {},
   "outputs": [
    {
     "name": "stdout",
     "output_type": "stream",
     "text": [
      "[[42645     8]\n",
      " [   47    22]]\n"
     ]
    }
   ],
   "source": [
    "print(confusion_matrix)"
   ]
  },
  {
   "cell_type": "code",
   "execution_count": 61,
   "id": "efbf8b41",
   "metadata": {},
   "outputs": [
    {
     "name": "stdout",
     "output_type": "stream",
     "text": [
      "The model had an f1 score of 0.4444444444444444 and an accuracy score of 0.9987126070876832\n"
     ]
    }
   ],
   "source": [
    "print(\"The model had an f1 score of \"+ str(f1_score(testing_labels,predicted_labels))+ \" and an accuracy score of \"+str(accuracy_score(testing_labels,predicted_labels)))"
   ]
  }
 ],
 "metadata": {
  "kernelspec": {
   "display_name": "Python 3 (ipykernel)",
   "language": "python",
   "name": "python3"
  },
  "language_info": {
   "codemirror_mode": {
    "name": "ipython",
    "version": 3
   },
   "file_extension": ".py",
   "mimetype": "text/x-python",
   "name": "python",
   "nbconvert_exporter": "python",
   "pygments_lexer": "ipython3",
   "version": "3.9.7"
  }
 },
 "nbformat": 4,
 "nbformat_minor": 5
}
